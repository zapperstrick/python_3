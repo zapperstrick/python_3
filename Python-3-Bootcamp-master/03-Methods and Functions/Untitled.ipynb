{
 "cells": [
  {
   "cell_type": "code",
   "execution_count": 17,
   "metadata": {},
   "outputs": [
    {
     "data": {
      "text/plain": [
       "'employee of the month is IRISH with work hours 510'"
      ]
     },
     "execution_count": 17,
     "metadata": {},
     "output_type": "execute_result"
    }
   ],
   "source": [
    "\n",
    "\n",
    "def employee_month(employees):\n",
    "    maxi=0\n",
    "    emp=\"\"\n",
    "    for employee,hours in employees:\n",
    "        if maxi<hours:\n",
    "            maxi=hours\n",
    "            emp=employee\n",
    "    #at the end of for loop return the funtion logic output\n",
    "    return f\"employee of the month is {emp.upper()} with work hours {maxi}\"\n",
    "\n",
    "#defining the input list with tuples\n",
    "employees_list = [(\"billy\",100),('irish',510),(\"kedi\",420)]\n",
    "\n",
    "#calling the funtion\n",
    "employee_month(employees_list)"
   ]
  },
  {
   "cell_type": "code",
   "execution_count": 5,
   "metadata": {},
   "outputs": [
    {
     "name": "stdout",
     "output_type": "stream",
     "text": [
      "[1, 2, 3] after shuffle\n"
     ]
    }
   ],
   "source": [
    "# Guess the ball in 3 random shuffle cup\n",
    "\n",
    "from random import shuffle\n",
    "\n",
    "cups=[1,2,3]\n",
    "\n",
    "shuffle(cups)\n",
    "\n",
    "print (f'{cups} after shuffle' )"
   ]
  },
  {
   "cell_type": "code",
   "execution_count": 17,
   "metadata": {},
   "outputs": [],
   "source": [
    "# define three cups and call Shuffle\n",
    "from random import shuffle\n",
    "def cups():\n",
    "    cups_list=[\" \",\"O\",\" \"]\n",
    "    shuffle(cups_list)\n",
    "    return cups_list\n"
   ]
  },
  {
   "cell_type": "code",
   "execution_count": 25,
   "metadata": {},
   "outputs": [],
   "source": [
    "def player_guess():\n",
    "    guess=''\n",
    "    while not (guess == \"0\" or guess==\"1\" or guess == \"2\"):\n",
    "        guess = input(\"pick a number between 0,1,2: \")\n",
    "    return int(guess)\n",
    "\n",
    "\n"
   ]
  },
  {
   "cell_type": "code",
   "execution_count": 30,
   "metadata": {},
   "outputs": [
    {
     "name": "stdout",
     "output_type": "stream",
     "text": [
      "pick a number between 0,1,2: 3\n",
      "pick a number between 0,1,2: 2\n",
      "player guess is wrong\n",
      "['O', ' ', ' ']\n"
     ]
    }
   ],
   "source": [
    "def validation(random_cup,playerguess):\n",
    "    \n",
    "    if random_cup[playerguess]== \"O\":\n",
    "        print(\"player guess is CORECT!!\")\n",
    "    else:\n",
    "        print(\"player guess is wrong\")\n",
    "        print(random_cup)\n",
    "\n",
    "random_cup = cups()\n",
    "playerguess = player_guess()\n",
    "\n",
    "validation(random_cup,playerguess)"
   ]
  },
  {
   "cell_type": "code",
   "execution_count": null,
   "metadata": {},
   "outputs": [],
   "source": []
  },
  {
   "cell_type": "code",
   "execution_count": null,
   "metadata": {},
   "outputs": [],
   "source": []
  },
  {
   "cell_type": "code",
   "execution_count": null,
   "metadata": {},
   "outputs": [],
   "source": []
  },
  {
   "cell_type": "code",
   "execution_count": null,
   "metadata": {},
   "outputs": [],
   "source": []
  },
  {
   "cell_type": "code",
   "execution_count": null,
   "metadata": {},
   "outputs": [],
   "source": []
  },
  {
   "cell_type": "code",
   "execution_count": null,
   "metadata": {},
   "outputs": [],
   "source": []
  },
  {
   "cell_type": "code",
   "execution_count": null,
   "metadata": {},
   "outputs": [],
   "source": []
  },
  {
   "cell_type": "code",
   "execution_count": 1,
   "metadata": {},
   "outputs": [
    {
     "data": {
      "text/plain": [
       "True"
      ]
     },
     "execution_count": 1,
     "metadata": {},
     "output_type": "execute_result"
    }
   ],
   "source": [
    "5 in range(0,6)"
   ]
  },
  {
   "cell_type": "code",
   "execution_count": 2,
   "metadata": {},
   "outputs": [],
   "source": [
    " # Check if the number is in Range including low and high\n",
    "    \n",
    "def check_range (num,low, high):\n",
    "    return num in range(low,high+1)"
   ]
  },
  {
   "cell_type": "code",
   "execution_count": 4,
   "metadata": {},
   "outputs": [
    {
     "data": {
      "text/plain": [
       "False"
      ]
     },
     "execution_count": 4,
     "metadata": {},
     "output_type": "execute_result"
    }
   ],
   "source": [
    "check_range(5,1,4)"
   ]
  },
  {
   "cell_type": "code",
   "execution_count": 12,
   "metadata": {},
   "outputs": [],
   "source": [
    "# Cal number of upper case and lower case in a given String\n",
    "def up_low(st):\n",
    "    low = 0\n",
    "    upp = 0\n",
    "    for cha in st:\n",
    "        if cha.isupper():\n",
    "            upp+=1\n",
    "        elif cha.islower():\n",
    "            low+=1\n",
    "        else:\n",
    "            pass\n",
    "    print(f'{low} , {upp}')\n",
    "   "
   ]
  },
  {
   "cell_type": "code",
   "execution_count": 13,
   "metadata": {},
   "outputs": [
    {
     "name": "stdout",
     "output_type": "stream",
     "text": [
      "37 , 12\n"
     ]
    }
   ],
   "source": [
    "up_low(\"This is a String to Count number of lowercase and UPPERCASE\")"
   ]
  },
  {
   "cell_type": "code",
   "execution_count": 18,
   "metadata": {},
   "outputs": [],
   "source": [
    "#Python funtion to multiply all number in a list\n",
    "\n",
    "def mul(lis):\n",
    "    res=1\n",
    "    for num in lis:\n",
    "        res  = res * num\n",
    "    return res"
   ]
  },
  {
   "cell_type": "code",
   "execution_count": 19,
   "metadata": {},
   "outputs": [
    {
     "data": {
      "text/plain": [
       "30"
      ]
     },
     "execution_count": 19,
     "metadata": {},
     "output_type": "execute_result"
    }
   ],
   "source": [
    "mul([1,3,2,5])"
   ]
  },
  {
   "cell_type": "code",
   "execution_count": 22,
   "metadata": {},
   "outputs": [],
   "source": [
    "# lambda  is a temporary method where we cn use th method call temporary\n"
   ]
  },
  {
   "cell_type": "code",
   "execution_count": null,
   "metadata": {},
   "outputs": [],
   "source": [
    "# to create own Class we use CLASS funtion\n"
   ]
  }
 ],
 "metadata": {
  "kernelspec": {
   "display_name": "Python 3",
   "language": "python",
   "name": "python3"
  },
  "language_info": {
   "codemirror_mode": {
    "name": "ipython",
    "version": 3
   },
   "file_extension": ".py",
   "mimetype": "text/x-python",
   "name": "python",
   "nbconvert_exporter": "python",
   "pygments_lexer": "ipython3",
   "version": "3.8.3"
  }
 },
 "nbformat": 4,
 "nbformat_minor": 4
}
